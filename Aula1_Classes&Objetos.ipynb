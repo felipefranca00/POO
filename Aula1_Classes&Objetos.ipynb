{
  "nbformat": 4,
  "nbformat_minor": 0,
  "metadata": {
    "colab": {
      "provenance": []
    },
    "kernelspec": {
      "name": "python3",
      "display_name": "Python 3"
    },
    "language_info": {
      "name": "python"
    }
  },
  "cells": [
    {
      "cell_type": "markdown",
      "source": [
        "# **Aula: Introdução à Programação Orientada a Objetos em Python**\n",
        "\n",
        "**Objetivo**\n",
        "\n",
        "Apresentar os principais conceitos da Programação Orientada a Objetos (POO) em Python, demonstrando como essa abordagem auxilia no desenvolvimento de sistemas modulares, reutilizáveis e escaláveis.\n",
        "\n",
        "Os principais conceitos de POO são:\n",
        "\n",
        "# Tópicos da Aula\n",
        "* **Classe:** Modelo ou estrutura para criar objetos.\n",
        "\n",
        "* **Objeto**: Instância de uma classe, representando uma entidade.\n",
        "\n",
        "* **Atributo**: Características ou propriedades de um objeto.\n",
        "\n",
        "* **Método**: Funções definidas dentro de uma classe que manipulam seus atributos.\n",
        "\n",
        "* **Encapsulamento**: Restrigir o acesso direto aos atributos e métodos internos de um objeto.\n",
        "\n",
        "* **Herança**: Permite que uma classe herde atributos e métodos de outra.\n",
        "\n",
        "* **Polimorfismo**: Permite que objetos de diferentes classes possam ser tratados de forma uniforme."
      ],
      "metadata": {
        "id": "6zVel57rPHLF"
      }
    },
    {
      "cell_type": "markdown",
      "source": [
        "# **O que é Programação Orientada a Objetos?**\n",
        "\n",
        "**Paradigma de programação** baseado na modelagem de objetos do mundo real.\n",
        "Cada objeto possui **atributos (características) e métodos (comportamentos).**\n",
        "Melhora a organização do código e facilita a reutilização."
      ],
      "metadata": {
        "id": "9gLERbDXP_jk"
      }
    },
    {
      "cell_type": "markdown",
      "source": [
        "# **1. Classes e Objetos em Python**\n",
        "\n",
        "**Definição de Classe e Objeto**\n",
        "\n",
        "**O que é uma Classe?**\n",
        "\n",
        "Uma classe é um modelo ou estrutura que define as características e comportamentos que seus objetos terão.\n",
        "Ela atua como um molde para a criação de múltiplas instâncias (objetos) com as mesmas características.\n",
        "\n",
        "**O que é um Objeto?**\n",
        "\n",
        "Um objeto é uma instância de uma classe.\n",
        "Ele possui **atributos (dados)** e **métodos (comportamentos).**\n",
        "Cada objeto criado a partir da mesma classe pode ter valores diferentes para seus atributos"
      ],
      "metadata": {
        "id": "lXsGwQUGQQAV"
      }
    },
    {
      "cell_type": "markdown",
      "source": [
        "# **2. Criando Classes e Objetos em Python**\n",
        "\n",
        "**2.1 Definição de uma Classe Vazia**\n",
        "\n",
        "Em Python, uma classe é definida usando a palavra-chave class:"
      ],
      "metadata": {
        "id": "nLFv00_iQ677"
      }
    },
    {
      "cell_type": "code",
      "source": [
        "class Carro:\n",
        "    pass  # Classe vazia\n",
        "\n",
        "\n",
        "#Isso define uma classe chamada Carro, mas sem atributos ou métodos.\n"
      ],
      "metadata": {
        "id": "-oYrBssARHwi"
      },
      "execution_count": null,
      "outputs": []
    },
    {
      "cell_type": "markdown",
      "source": [
        "**2.2 Criando Objetos**\n",
        "\n",
        "Podemos criar **objetos (instâncias)** de uma classe simplesmente chamando o nome da classe como se fosse uma função:"
      ],
      "metadata": {
        "id": "E3TGq3SjRPko"
      }
    },
    {
      "cell_type": "code",
      "source": [
        "carro1 = Carro()  # Criando um objeto da classe Carro\n",
        "carro2 = Carro()  # Criando outro objeto da classe Carro\n",
        "\n",
        "print(type(carro1))  # <class '__main__.Carro'>\n",
        "print(type(carro2))  # <class '__main__.Carro'>\n",
        "\n",
        "# Cada objeto é independente, mas ambos pertencem à mesma classe Carro.\n"
      ],
      "metadata": {
        "colab": {
          "base_uri": "https://localhost:8080/"
        },
        "id": "MQEJw9fORULj",
        "outputId": "b06312f5-91d7-4fa1-afc5-f9e2613e5a6c"
      },
      "execution_count": null,
      "outputs": [
        {
          "output_type": "stream",
          "name": "stdout",
          "text": [
            "<class '__main__.Carro'>\n",
            "<class '__main__.Carro'>\n"
          ]
        }
      ]
    },
    {
      "cell_type": "markdown",
      "source": [
        "**2.3 Método `__init__` (construtor)**\n",
        "\n",
        "O método `__init__` é o construtor da classe. Ele é chamado automaticamente quando criamos uma nova instância de Aluno. Esse método é responsável por inicializar os atributos da instância.\n",
        "\n",
        "```\n",
        "def __init__(self, nome, idade):\n",
        "    self.nome = nome\n",
        "    self.idade = idade\n",
        "```\n",
        "\n",
        "**2.4 Parâmetros**\n",
        "\n",
        "**Parâmetros** são valores passados para (**funções ou métodos**) para que possam ser utilizados dentro deles. Em **métodos** de classe, os **parâmetros** permitem a personalização do **comportamento do objeto**.\n",
        "\n",
        "Por exemplo, no método `__init__`, **nome** e **idade** são parâmetros que definem os atributos do objeto.\n",
        "\n",
        "\n",
        "**2.5 Atributos**\n",
        "\n",
        "**Atributos** em uma classe são **variáveis** que armazenam **informações** sobre um objeto. Eles podem ser classificados em:\n",
        "\n",
        "**Atributos de instância**: Pertencem a cada objeto criado a partir da classe. São definidos dentro do método `__init__` e geralmente acessados via self.\n",
        "\n",
        "\n",
        "\n",
        "```\n",
        "class Pessoa:\n",
        "    def __init__(self, nome, idade):\n",
        "        self.nome = nome  # Atributo de instância\n",
        "        self.idade = idade  # Atributo de instância\n",
        "```\n",
        "\n",
        "\n",
        "\n",
        "* self: O parâmetro self representa a instância atual da classe (o próprio objeto). Ele é necessário para acessar os atributos e métodos da classe.\n",
        "* nome e idade: São parâmetros que serão passados quando um objeto da classe Aluno for criado.\n",
        "\n",
        "* self.nome: Este atributo armazena o nome do aluno.\n",
        "* self.idade: Este atributo armazena a idade do aluno.\n",
        "\n",
        "**Atributos de classe:** Pertencem à classe em si e são compartilhados entre todas as instâncias. São definidos fora do __init__.\n",
        "\n",
        "\n",
        "```\n",
        "class Pessoa:\n",
        "    quantidade = 0  # Atributo de classe\n",
        "\n",
        "    def __init__(self, nome, idade):\n",
        "        self.nome = nome\n",
        "        self.idade = idade\n",
        "        Pessoa.quantidade += 1\n",
        "```\n",
        "\n"
      ],
      "metadata": {
        "id": "sN0EarD7w1YC"
      }
    },
    {
      "cell_type": "markdown",
      "source": [
        "# **3.Classe e Objeto**\n",
        "\n",
        "O código a seguir define uma **Classe chamada Aluno** que representa informações sobre um aluno.\n",
        "\n",
        "**Vamos analisar detalhadamente o código**"
      ],
      "metadata": {
        "id": "2t9KJfEvMd6A"
      }
    },
    {
      "cell_type": "code",
      "source": [
        "class Aluno:\n",
        "    def __init__(self, nome, idade):\n",
        "        self.nome = nome\n",
        "        self.idade = idade\n",
        "\n",
        "    def exibir_info(self):\n",
        "        print(f\"Aluno: {self.nome}, Idade: {self.idade}\")\n",
        "\n",
        "# Criando um objeto\n",
        "aluno1 = Aluno(\"Carlos\", 20)\n",
        "# Chamando o método\n",
        "aluno1.exibir_info()\n",
        "# Saída: Aluno: Carlos, Idade: 20"
      ],
      "metadata": {
        "id": "uTbgWPoTMxLZ"
      },
      "execution_count": null,
      "outputs": []
    },
    {
      "cell_type": "markdown",
      "source": [
        "# Explicação do código\n",
        "\n",
        "**1.Definição da classe Aluno**\n",
        "\n",
        "**`class Aluno:`**\n",
        "\n",
        " Esta linha define uma classe chamada `Aluno`. Classes em Python são como \"modelos\" ou \"plantas\" que definem as características e comportamentos de objetos. Um **objeto é uma instância** dessa classe.\n",
        "\n",
        "**2. Método construtor de uma classe**\n",
        "\n",
        "```\n",
        "def __init__(self, nome, idade):\n",
        "    self.nome = nome\n",
        "    self.idade = idade\n",
        "```\n",
        "\n",
        "**`__init__`:** É um método especial chamado automaticamente quando um novo objeto da classe é criado. Ele serve para inicializar os **atributos** do objeto.\n",
        "\n",
        "**`self:`** Representa a própria instância do objeto. Ele permite acessar os atributos e métodos da classe.\n",
        "\n",
        "`nome e idade`: São parâmetros passados no momento da criação do objeto.\n",
        "**self.nome = nome** e **self.idade = idade**. Esses comandos atribuem os valores dos parâmetros aos atributos da instância.\n",
        "\n",
        "**3. Método exibir_info**\n",
        "\n",
        "Este método exibe as informações do aluno (nome e idade) na tela.\n",
        "\n",
        "```\n",
        "def exibir_info(self):\n",
        "    print(f\"Aluno: {self.nome}, Idade: {self.idade}\")\n",
        "```\n",
        "\n",
        "`self.nome e self.idade:` Aqui, estamos acessando os atributos nome e idade da instância atual (o objeto) para exibir as informações.\n",
        "\n",
        "**4. Criando um objeto da classe Aluno**\n",
        "\n",
        "`aluno1 = Aluno(\"Carlos\", 20)`\n",
        "\n",
        "Esta linha cria um objeto aluno1 da classe Aluno. Quando o objeto é criado, o método init é chamado com os valores \"Carlos\" e 20 para os parâmetros nome e idade, respectivamente. O resultado é que o objeto aluno1 tem os atributos nome = \"Carlos\" e idade = 20.\n",
        "\n",
        "**5. Chamando o método exibir_info**\n",
        "\n",
        "`aluno1.exibir_info()`\n",
        "\n",
        "Aqui, estamos chamando o método exibir_info no objeto aluno1. O método exibirá as informações do aluno, ou seja, o nome e a idade.\n",
        "\n",
        "**Saída:** A função print(f\"Aluno: {self.nome}, Idade: {self.idade}\") vai mostrar a seguinte saída:\n",
        "Aluno: Carlos, Idade: 20\n",
        "\n",
        "**Resumo:**\n",
        "\n",
        "A **classe Aluno** possui um **construtor** que recebe o nome e a idade do aluno e os armazena em **atributos** (variáveis de instância).\n",
        "O **método** `exibir_info` é responsável por exibir as informações do aluno.\n",
        "Criamos um **objeto** da classe Aluno chamado aluno1, com o nome \"Carlos\" e idade 20, e **chamamos o método** `exibir_info` para exibir os dados desse aluno.\n"
      ],
      "metadata": {
        "id": "jpmNPfBw7s3x"
      }
    },
    {
      "cell_type": "markdown",
      "source": [
        "# **4. Atributos de Instância e Métodos**\n",
        "\n",
        "Os atributos são variáveis que armazenam o estado do objeto. Eles são definidos no método especial __init__.\n",
        "\n",
        "**Exemplo 1. Classe com Atributos e Métodos**"
      ],
      "metadata": {
        "id": "kR8GNfAYa2GR"
      }
    },
    {
      "cell_type": "code",
      "source": [
        "class Curso:\n",
        "    def __init__(self, nome, horas):\n",
        "        self.nome = nome  # Atributo de instância\n",
        "        self.horas = horas  # Atributo de instância\n",
        "\n",
        "    def exibir_detalhes(self):\n",
        "        print(f\"Nome: {self.nome}, Horas: {self.horas}\")\n",
        "\n",
        "# Criando objetos\n",
        "curso1 = Curso(\"Python\", 40)\n",
        "curso2 = Curso(\"Banco de Dados\", 20)\n",
        "\n",
        "curso1.exibir_detalhes()  # Nome: Python, Horas: 40\n",
        "curso2.exibir_detalhes()  # Nome: Banco de Dados, Horas: 20\n",
        "\n"
      ],
      "metadata": {
        "id": "IHhRnO9Va8JZ",
        "colab": {
          "base_uri": "https://localhost:8080/"
        },
        "outputId": "d29eab54-891c-4e81-adb1-dd3554a11fb2"
      },
      "execution_count": null,
      "outputs": [
        {
          "output_type": "stream",
          "name": "stdout",
          "text": [
            "Nome: Python, Horas: 40\n",
            "Nome: Banco de Dados, Horas: 20\n"
          ]
        }
      ]
    },
    {
      "cell_type": "markdown",
      "source": [
        "**Explicação**\n",
        "\n",
        "**O que significa o __init__?**\n",
        "\n",
        "* __init__ é utilizado para inicializar os **atributos de um objeto** assim que ele é criado.\n",
        "\n",
        "* Esse **método** recebe como **parâmetros** os **valores** que são passados quando você cria um **objeto** da classe, além de **self**, que é uma referência ao próprio objeto que está sendo criado.\n",
        "\n",
        "* **`.self`** serve para configurar o estado inicial do objeto, ou seja, definir os valores iniciais dos **atributos da classe**.\n"
      ],
      "metadata": {
        "id": "EJIMJUZFbIII"
      }
    },
    {
      "cell_type": "markdown",
      "source": [
        "**Quando o __init__ é chamado?**\n",
        "\n",
        "Quando você cria um objeto da classe Aluno:\n",
        "\n",
        "`curso1 = Curso(\"Python\", 40)`\n",
        "\n",
        "* O Python automaticamente chama o método __init__ e passa os valores \"Carlos\" e 20 para os parâmetros nome e idade.\n",
        "\n",
        "* O __init__ então inicializa os atributos self.nome e self.idade com esses valores."
      ],
      "metadata": {
        "id": "gvgy3icRHyYI"
      }
    },
    {
      "cell_type": "markdown",
      "source": [
        "**Como funciona?**\n",
        "\n",
        "* Quando você chama Curso(\"Python\", 40), o Python cria um novo objeto da classe Aluno.\n",
        "* O Python chama o método __init__ e passa os argumentos \"Python\" e 40 para o método.\n",
        "* O método __init__ usa esses valores para inicializar os atributos do objeto.\n",
        "* O objeto **curso1** agora tem os atributos `nome e horas` com os valores fornecidos.\n",
        "\n"
      ],
      "metadata": {
        "id": "Y7vhV5DZII0o"
      }
    },
    {
      "cell_type": "markdown",
      "source": [
        "* Então, o método __init__ serve para inicializar o estado do objeto assim que ele é criado.\n",
        "\n",
        "* O **self** é um **atributo** implícito em Python que representa a instância atual de um objeto dentro de uma classe. Ele é usado para acessar os atributos e métodos daquele objeto específico."
      ],
      "metadata": {
        "id": "b7YAFVqDIlDS"
      }
    },
    {
      "cell_type": "markdown",
      "source": [
        "# **O que é o self?**\n",
        "* self é uma referência ao próprio objeto. Quando você cria um objeto de uma classe, o self permite que você acesse os atributos e métodos daquele objeto específico.\n",
        "* Cada objeto tem seu próprio self. Portanto, se você criar dois objetos, eles terão valores diferentes para os atributos, mas o self em cada um referenciará o objeto correspondente.\n",
        "\n",
        "# **Como funciona o self?**\n",
        "\n",
        "* **Referência ao objeto atual**: Dentro de qualquer método de uma classe (como __init__, ou outros métodos que você definir), o primeiro parâmetro sempre será self. Isso permite que o método acesse e altere os atributos do objeto que está sendo manipulado.\n",
        "\n",
        "* **Não precisa ser passado explicitamente**: Quando você cria um objeto ou chama um método, você não precisa passar o self como argumento, pois ele é passado automaticamente pelo Python.\n",
        "\n",
        "# **Exemplo de Classe Profissão**"
      ],
      "metadata": {
        "id": "tEMLlim6Iz8R"
      }
    },
    {
      "cell_type": "code",
      "source": [
        "class Profissao:\n",
        "    def __init__(self, area, cargo):\n",
        "        self.area = area\n",
        "        self.cargo = cargo\n",
        "\n",
        "    def exibir(self):\n",
        "        print(f\"Area: {self.area} e Cargo: {self.cargo}\")\n",
        "\n",
        "prof1 = Profissao(\"TI\", \"DEV\")\n",
        "prof2 = Profissao(\"RH\", \"Recrutador\")\n",
        "\n",
        "# Chamando o método\n",
        "prof1.exibir()\n",
        "\n",
        "#Acessando os atributos\n",
        "print(prof2.area)\n",
        "print(prof2.cargo)\n"
      ],
      "metadata": {
        "id": "9Iq3_98EJF4Q",
        "colab": {
          "base_uri": "https://localhost:8080/"
        },
        "outputId": "4cf5b116-fb53-4365-b98e-79fe49d0b69c"
      },
      "execution_count": null,
      "outputs": [
        {
          "output_type": "stream",
          "name": "stdout",
          "text": [
            "Area: TI e Cargo: DEV\n",
            "RH\n",
            "Recrutador\n"
          ]
        }
      ]
    },
    {
      "cell_type": "markdown",
      "source": [
        "**Explicação do código:**\n",
        "\n",
        "* **self.area:** O **self** refere-se ao objeto atual, e self.area é um **atributo** desse objeto. Quando você faz prof1.area = \"DEV\", o valor \"DEV\" é armazenado no **objeto** `prof1` no **atributo** `area`.\n",
        "* **self.cargo:** O mesmo vale para self.cargo. Esse valor é único para cada instância (objeto) da classe.\n",
        "* O método `exibir()` é um exemplo de **método** que usa self para acessar o atributo **area** e **cargo** e exibi-lo."
      ],
      "metadata": {
        "id": "VwCKzbssKMnY"
      }
    },
    {
      "cell_type": "markdown",
      "source": [
        "# **self em outros métodos**\n",
        "\n",
        "Você também pode usar self em outros métodos da classe para acessar e modificar atributos, ou até mesmo chamar outros métodos."
      ],
      "metadata": {
        "id": "9fSjdoyFLG-H"
      }
    },
    {
      "cell_type": "code",
      "source": [
        "class Aluno:\n",
        "    def __init__(self, nome, idade):\n",
        "        self.nome = nome\n",
        "        self.idade = idade\n",
        "\n",
        "    def aniversariante(self):\n",
        "        self.idade += 1  # Aumenta a idade do aluno em 1\n",
        "\n",
        "    def mostrar_info(self):\n",
        "        print(f\"Nome: {self.nome}, Idade: {self.idade}\")\n",
        "\n",
        "# Criando um objeto\n",
        "aluno1 = Aluno(\"Carlos\", 20)\n",
        "\n",
        "# Mostrando informações do aluno\n",
        "aluno1.mostrar_info()  # Saída: Nome: Carlos, Idade: 20\n",
        "\n",
        "# Aumentando a idade\n",
        "aluno1.aniversariante()\n",
        "\n",
        "# Mostrando informações do aluno novamente\n",
        "aluno1.mostrar_info()  # Saída: Nome: Carlos, Idade: 21\n"
      ],
      "metadata": {
        "id": "QymOBcM3LLSf",
        "colab": {
          "base_uri": "https://localhost:8080/"
        },
        "outputId": "f783b178-0efc-4cb4-c7d1-f30cb4070262"
      },
      "execution_count": null,
      "outputs": [
        {
          "output_type": "stream",
          "name": "stdout",
          "text": [
            "Nome: Carlos, Idade: 20\n",
            "Nome: Carlos, Idade: 21\n"
          ]
        }
      ]
    },
    {
      "cell_type": "markdown",
      "source": [
        "**Resumo:**\n",
        "* O **self** não é uma palavra-chave, mas é usado de forma convencional para representar a **instância** atual de um **objeto**.\n",
        "* Ele permite **acessar** e **modificar** atributos de um objeto e também **chamar** seus **métodos** dentro da classe.\n",
        "* Cada instância de uma classe (objeto) tem seu próprio conjunto de atributos, e o `self` ajuda a referenciar esses **atributos** de forma única para cada instância.\n",
        "\n",
        "Em resumo, o `self` é essencial para trabalhar com **objetos** em Python, pois permite a **manipulação dos dados** específicos de cada **instância da classe**."
      ],
      "metadata": {
        "id": "I_P0Jnb2LYbB"
      }
    },
    {
      "cell_type": "markdown",
      "source": [
        "# **4. Atributos de Instância vs. Atributos de Classe**\n",
        "\n",
        "**Atributos de Instância:** São específicos para cada objeto.\n",
        "\n",
        "**Atributos de Classe:** São compartilhados por todas as instâncias da classe.\n",
        "\n"
      ],
      "metadata": {
        "id": "XwtIL9IES2_I"
      }
    },
    {
      "cell_type": "markdown",
      "source": [
        "\n",
        "\n",
        "# **4.1 Atributos de Instância**\n",
        "\n",
        "Os atributos de **instância** são específicos para cada objeto (**instância**) de uma classe. Ou seja, cada **objeto** tem seu **próprio valor** para esses atributos, e o valor **não** é compartilhado entre as instâncias.\n",
        "\n",
        "**Características dos Atributos de Instância**\n",
        "\n",
        "* São definidos dentro do método __init__.\n",
        "* Usam self para se referir ao objeto específico.\n",
        "* Podem ser modificados diretamente em uma instância.\n",
        "\n",
        "**Exemplo de Atributo de Instância**"
      ],
      "metadata": {
        "id": "bGx6iXTKS1zr"
      }
    },
    {
      "cell_type": "code",
      "source": [
        "class Pessoa:\n",
        "    def __init__(self, nome, idade):\n",
        "        self.nome = nome  # Atributo de instância\n",
        "        self.idade = idade  # Atributo de instância\n",
        "\n",
        "# Criando objetos\n",
        "pessoa1 = Pessoa(\"Carlos\", 30)\n",
        "pessoa2 = Pessoa(\"Ana\", 25)\n",
        "\n",
        "# Modificando o atributo de instância de uma instância\n",
        "pessoa1.idade = 31\n",
        "\n",
        "# Atributos de instância são específicos para cada objeto\n",
        "print(f\"{pessoa1.nome} tem {pessoa1.idade} anos.\")  # Carlos tem 31 anos.\n",
        "print(f\"{pessoa2.nome} tem {pessoa2.idade} anos.\")  # Ana tem 25 anos.\n"
      ],
      "metadata": {
        "colab": {
          "base_uri": "https://localhost:8080/"
        },
        "id": "CwL4ywyyS_Zx",
        "outputId": "6ea0e84e-6b2b-4138-a3c1-859c03efaa1c"
      },
      "execution_count": null,
      "outputs": [
        {
          "output_type": "stream",
          "name": "stdout",
          "text": [
            "Carlos tem 31 anos.\n",
            "Ana tem 25 anos.\n"
          ]
        }
      ]
    },
    {
      "cell_type": "markdown",
      "source": [
        "\n",
        "\n",
        "# **4.2 Atributos de Classe**\n",
        "\n",
        "Os atributos de classe são definidos na própria classe e são compartilhados por todas as instâncias dessa classe. Eles são acessados diretamente pela classe ou pelas instâncias, mas, se modificados por uma instância, a mudança afeta todas as outras instâncias, a menos que o atributo seja sobrescrito pela instância.\n",
        "\n",
        "**Características dos Atributos de Classe**\n",
        "* São definidos fora do __init__, geralmente logo abaixo da definição da classe.\n",
        "* São compartilhados por todas as instâncias da classe.\n",
        "* São acessados através da própria classe ou de uma instância, mas não pertencem a nenhuma instância em particular.\n",
        "* Se modificados pela instância, a alteração afetará todas as instâncias, a menos que o atributo seja sobrescrito pela instância.\n",
        "\n",
        "**Exemplo de Atributo de Classe**\n",
        "\n"
      ],
      "metadata": {
        "id": "B7Tr7CZHbgY5"
      }
    },
    {
      "cell_type": "code",
      "source": [
        "class Carro:\n",
        "    categoria = \"Veículo Terrestre\"  # Atributo de classe\n",
        "\n",
        "    def __init__(self, modelo, ano):\n",
        "        self.modelo = modelo  # Atributo de instância\n",
        "        self.ano = ano  # Atributo de instância\n",
        "\n",
        "# Criando objetos\n",
        "carro1 = Carro(\"Fusca\", 1970)\n",
        "carro2 = Carro(\"Corolla\", 2020)\n",
        "\n",
        "# Atributos de classe são compartilhados\n",
        "print(carro1.categoria)  # Veículo Terrestre\n",
        "print(carro2.categoria)  # Veículo Terrestre\n",
        "\n",
        "# Modificando o atributo de classe\n",
        "Carro.categoria = \"Automóvel\"\n",
        "\n",
        "print(carro1.categoria)  # Automóvel\n",
        "print(carro2.categoria)  # Automóvel\n"
      ],
      "metadata": {
        "colab": {
          "base_uri": "https://localhost:8080/"
        },
        "id": "QvzaUGj7SF6n",
        "outputId": "abffa010-42d1-49bb-a858-1601ab1c9f50"
      },
      "execution_count": null,
      "outputs": [
        {
          "output_type": "stream",
          "name": "stdout",
          "text": [
            "Veículo Terrestre\n",
            "Veículo Terrestre\n",
            "Automóvel\n",
            "Automóvel\n"
          ]
        }
      ]
    },
    {
      "cell_type": "markdown",
      "source": [
        "**Modificando Atributos de Classe**\n",
        "\n",
        "Quando modificamos o atributo de classe diretamente pela classe, todas as instâncias dessa classe são afetadas.\n",
        "\n",
        "No exemplo, a mudança feita em Carro.categoria reflete em todas as instâncias (carro1, carro2)."
      ],
      "metadata": {
        "id": "zaUdBji0SIdJ"
      }
    },
    {
      "cell_type": "markdown",
      "source": [
        "**Diferença Crucial**\n",
        "\n",
        "* **Atributos de instânci**a são exclusivos para cada objeto (instância) e não afetam as outras instâncias, a menos que sejam modificados diretamente em cada uma delas.\n",
        "* **Atributos de class**e são compartilhados por todas as instâncias da classe. Quando modificados pela classe, todas as instâncias refletem essa mudança. Porém, se um atributo de classe for modificado diretamente em uma instância, isso não afetará as outras instâncias a menos que o atributo não tenha sido sobrescrito pela instância."
      ],
      "metadata": {
        "id": "1kMJejlXTC3P"
      }
    },
    {
      "cell_type": "markdown",
      "source": [
        "**Uso Típico**\n",
        "\n",
        "* **Atributos de instância** são usados para armazenar informações específicas sobre cada instância, como o nome de uma pessoa ou o modelo de um carro. Eles refletem as características únicas de cada objeto.\n",
        "* **Atributos de classe** são usados para armazenar informações que são comuns a todas as instâncias de uma classe, como a categoria de um veículo ou a taxa de juros de um banco. Eles são ideais para valores compartilhados por todas as instâncias, como configurações globais.\n",
        "\n",
        "**Exemplo Completo**"
      ],
      "metadata": {
        "id": "q8aWgskWTK13"
      }
    },
    {
      "cell_type": "code",
      "source": [
        "class Produto:\n",
        "    imposto = 0.2  # Atributo de classe, imposto comum a todos os produtos\n",
        "\n",
        "    def __init__(self, nome, preco):\n",
        "        self.nome = nome  # Atributo de instância\n",
        "        self.preco = preco  # Atributo de instância\n",
        "\n",
        "    def calcular_preco_com_imposto(self):\n",
        "        return self.preco * (1 + Produto.imposto)\n",
        "\n",
        "# Criando objetos\n",
        "produto1 = Produto(\"Camiseta\", 50)\n",
        "produto2 = Produto(\"Calça\", 100)\n",
        "\n",
        "# Exibindo os preços com imposto\n",
        "print(f\"Preço da {produto1.nome} com imposto: R${produto1.calcular_preco_com_imposto():.2f}\")\n",
        "print(f\"Preço da {produto2.nome} com imposto: R${produto2.calcular_preco_com_imposto():.2f}\")\n",
        "\n",
        "# Alterando o imposto de classe\n",
        "Produto.imposto = 0.3\n",
        "\n",
        "# Verificando os preços com o novo imposto\n",
        "print(f\"Novo preço da {produto1.nome} com imposto: R${produto1.calcular_preco_com_imposto():.2f}\")\n",
        "print(f\"Novo preço da {produto2.nome} com imposto: R${produto2.calcular_preco_com_imposto():.2f}\")\n"
      ],
      "metadata": {
        "colab": {
          "base_uri": "https://localhost:8080/"
        },
        "id": "mtgCStXzXAua",
        "outputId": "5b9ff8b5-72d9-47e0-8e8c-17ae365fe31e"
      },
      "execution_count": null,
      "outputs": [
        {
          "output_type": "stream",
          "name": "stdout",
          "text": [
            "Preço da Camiseta com imposto: R$60.00\n",
            "Preço da Calça com imposto: R$120.00\n",
            "Novo preço da Camiseta com imposto: R$65.00\n",
            "Novo preço da Calça com imposto: R$130.00\n"
          ]
        }
      ]
    },
    {
      "cell_type": "markdown",
      "source": [
        "# **5. Métodos de Instância, de Classe e Estáticos**\n",
        "\n",
        "Em Python, os **métodos** de uma classe podem ser classificados em métodos de **instância**, métodos de **classe** e métodos **estáticos**. Cada tipo tem um propósito específico e deve ser escolhido conforme a necessidade do código.\n",
        "\n",
        "# **5.1 Métodos de Instância**\n",
        "\n",
        "Os métodos de **instância** operam sobre atributos de um objeto específico. Eles sempre recebem `self` como primeiro parâmetro, que representa a própria instância da classe. Os métodos normais que acessam atributos do objeto usam **self**."
      ],
      "metadata": {
        "id": "EzyHztcJcFgP"
      }
    },
    {
      "cell_type": "code",
      "source": [
        "class Pessoa:\n",
        "    def __init__(self, nome, idade):\n",
        "        self.nome = nome\n",
        "        self.idade = idade\n",
        "\n",
        "    def apresentar(self):\n",
        "        return f\"Meu nome é {self.nome} e tenho {self.idade} anos.\"\n",
        "\n",
        "pessoa1 = Pessoa(\"Carlos\", 30)\n",
        "print(pessoa1.apresentar())  # Saída: Meu nome é Carlos e tenho 30 anos.\n"
      ],
      "metadata": {
        "id": "p0K5dH6gcJ9m",
        "colab": {
          "base_uri": "https://localhost:8080/"
        },
        "outputId": "47178ffc-5e8d-424b-91ef-526f7c617d3d"
      },
      "execution_count": null,
      "outputs": [
        {
          "output_type": "stream",
          "name": "stdout",
          "text": [
            "Meu nome é Carlos e tenho 30 anos.\n"
          ]
        }
      ]
    },
    {
      "cell_type": "markdown",
      "source": [
        "**📌 Quando usar?**\n",
        "\n",
        "* Sempre que o **método** precisar acessar ou **modificar** atributos específicos da instância.\n",
        "* Quando o comportamento do **método** varia de acordo com os dados armazenados em um objeto individual.\n",
        "* Se for necessário modificar **atributos** de um objeto sem afetar outras instâncias (objetos) da classe.\n",
        "* Quando a lógica do **método** depende diretamente do **estado** do objeto.\n",
        "\n",
        "💡**Exemplo prático:** Um método `depositar(valor)` em uma classe **ContaBancaria**, onde o saldo de cada conta é independente das outras contas."
      ],
      "metadata": {
        "id": "TockP3bYC9v5"
      }
    },
    {
      "cell_type": "code",
      "source": [
        "class ContaBancaria:\n",
        "    def __init__(self, titular, saldo_inicial=0):\n",
        "        self.titular = titular  # Nome do titular da conta\n",
        "        self.saldo = saldo_inicial  # Saldo inicial da conta\n",
        "\n",
        "    def depositar(self, valor):\n",
        "        if valor > 0:\n",
        "            self.saldo += valor\n",
        "            print(f\"Depósito de R${valor:.2f} realizado com sucesso!\")\n",
        "        else:\n",
        "            print(\"O valor de depósito deve ser positivo.\")\n",
        "\n",
        "    def consultar_saldo(self):\n",
        "        print(f\"Saldo da conta de {self.titular}: R${self.saldo:.2f}\")\n",
        "\n",
        "# Exemplo de uso\n",
        "conta1 = ContaBancaria(\"João\", 1000)\n",
        "conta1.consultar_saldo()\n",
        "\n",
        "# Realizando o depósito\n",
        "conta1.depositar(500)\n",
        "conta1.consultar_saldo()\n"
      ],
      "metadata": {
        "id": "vqbX7ODdDYVa"
      },
      "execution_count": null,
      "outputs": []
    },
    {
      "cell_type": "markdown",
      "source": [
        "**Explicação:**\n",
        "* O método __init__ inicializa a conta com o titular e o saldo.\n",
        "* O método depositar(valor) adiciona o valor ao saldo da conta, se o valor for positivo.\n",
        "* O método consultar_saldo() exibe o saldo atual da conta.\n",
        "\n",
        "Esse exemplo mostra como o saldo de cada conta é independente, ou seja, cada instância de ContaBancaria tem seu próprio saldo."
      ],
      "metadata": {
        "id": "-_KOu0DxDc3I"
      }
    },
    {
      "cell_type": "markdown",
      "source": [
        "# **5.2 Métodos de Classe**\n",
        "\n",
        "Os métodos de **classe** operam sobre a **classe como um todo** e não sobre instâncias individuais. Eles usam **@classmethod** e recebem **cls** como primeiro parâmetro, que representa a própria classe. Usam **@classmethod** e **cls** para manipular atributos de classe."
      ],
      "metadata": {
        "id": "KarIXFzRcUwO"
      }
    },
    {
      "cell_type": "code",
      "source": [
        "class Pessoa:\n",
        "    quantidade = 0  # Atributo de classe\n",
        "\n",
        "    def __init__(self, nome, idade):\n",
        "        self.nome = nome\n",
        "        self.idade = idade\n",
        "        Pessoa.quantidade += 1  # Atualiza o atributo da classe\n",
        "\n",
        "    @classmethod\n",
        "    def criar_padrao(cls):\n",
        "        \"\"\"Cria uma pessoa com valores padrão\"\"\"\n",
        "        return cls(\"Nome Padrão\", 18)\n",
        "\n",
        "# Criando uma pessoa com valores padrão\n",
        "pessoa_padrao = Pessoa.criar_padrao()\n",
        "\n",
        "print(pessoa_padrao.nome)  # Saída: Nome Padrão\n",
        "print(pessoa_padrao.idade)  # Saída: 18\n",
        "\n",
        "\n",
        "\n"
      ],
      "metadata": {
        "id": "izQejh26cYs2"
      },
      "execution_count": null,
      "outputs": []
    },
    {
      "cell_type": "markdown",
      "source": [
        "**Por que usar um método de classe aqui?**\n",
        "\n",
        "* O método `criar_padrao` não depende de uma instância existente, apenas da classe.\n",
        "* Ele retorna um novo objeto sem precisar passar parâmetros manualmente.\n",
        "* Podemos modificar esse comportamento futuramente sem mudar a forma como as instâncias são criadas."
      ],
      "metadata": {
        "id": "LsodLKWFEiqP"
      }
    },
    {
      "cell_type": "markdown",
      "source": [
        "💡 **Exemplo prático:** Um método `aplicar_desconto()` em uma classe **Produto**, que calcula o preço final com base em um desconto definido para todos os produtos, permitindo a alteração dessa taxa através de **métodos de classe.**"
      ],
      "metadata": {
        "id": "qsJz-rpkIr27"
      }
    },
    {
      "cell_type": "code",
      "source": [
        "class Produto:\n",
        "    taxa_desconto = 0.05 # Atributo de classe (taxa de desconto padrão de 5%)\n",
        "    def __init__(self, produto, preco):\n",
        "        self.produto = produto\n",
        "        self.preco = preco\n",
        "\n",
        "    def aplicar_desconto(self):\n",
        "        return self.preco - (self.preco * Produto.taxa_desconto)\n",
        "\n",
        "    def exibir(self):\n",
        "        print(f\"Produto: {self.produto}\")\n",
        "        print(f\"Preço Original: R${self.preco:.2f}\")\n",
        "        print(f\"Preço com Desconto: R${self.aplicar_desconto():.2f}\")\n",
        "\n",
        "    @classmethod\n",
        "    def definir_taxa(cls, nova_taxa):\n",
        "        cls.desconto = nova_taxa\n",
        "\n",
        "    @classmethod\n",
        "    def consultar_taxa(cls):\n",
        "        print(f\"Nova Taxa : {Produto.desconto}\")\n",
        "\n",
        "# Criando instância\n",
        "venda1 = Produto(\"Camisa\", 100)\n",
        "# Exibindo informações\n",
        "venda1.exibir()\n",
        "\n",
        "#Alterando o valor do desconto\n",
        "Produto.definir_taxa(0.1)\n",
        "#Consultar nova taxa\n",
        "Produto.consultar_taxa()\n",
        "\n",
        "venda1.exibir()"
      ],
      "metadata": {
        "colab": {
          "base_uri": "https://localhost:8080/"
        },
        "id": "xvRs9Bj9L4EW",
        "outputId": "780344cb-97ee-4d1a-a730-652945987b7a"
      },
      "execution_count": null,
      "outputs": [
        {
          "output_type": "stream",
          "name": "stdout",
          "text": [
            "Produto: Camisa\n",
            "Preço Original: R$100.00\n",
            "Preço com Desconto: R$95.00\n",
            "Nova Taxa : 0.1\n",
            "Produto: Camisa\n",
            "Preço Original: R$100.00\n",
            "Preço com Desconto: R$95.00\n"
          ]
        }
      ]
    },
    {
      "cell_type": "markdown",
      "source": [
        "**Explicação:**\n",
        "* A **`taxa_desconto`** é um **atributo** de classe, ou seja, é compartilhada por todas as instâncias da classe ContaBancaria.\n",
        "* O método `definir_taxa_juros` é um método de classe, responsável por modificar esse atributo de classe. Ele recebe **cls** como primeiro parâmetro, permitindo **modificar** o valor da **taxa de juros** para todas as **instâncias** da classe.\n",
        "* O método `consultar_taxa` é um método de classe que retorna a **taxa de juros atual.**"
      ],
      "metadata": {
        "id": "86gjJtsNJMIP"
      }
    },
    {
      "cell_type": "markdown",
      "source": [
        "# **5.3 Métodos Estáticos**\n",
        "\n",
        "Os métodos **estáticos** são **funções** dentro da classe que **não dependem da instância (self) nem da classe (cls)**. São úteis quando um comportamento está relacionado à **classe**, mas não precisa acessar ou modificar seus atributos.\n",
        "\n",
        "**Exemplo prático de método estático**\n",
        "\n",
        "Vamos criar uma classe **UtilidadesMatematicas**, que contém um método estático para calcular o imposto sobre um valor específico. Esse método pode ser chamado sem precisar criar uma instância da classe."
      ],
      "metadata": {
        "id": "_peBhaQkcadG"
      }
    },
    {
      "cell_type": "code",
      "source": [
        "class UtilidadesMatematicas:\n",
        "    @staticmethod\n",
        "    def calcular_imposto(valor, taxa):  #Calcula o valor do imposto com base no valor e na taxa fornecida.\n",
        "        return valor * taxa\n",
        "\n",
        "# Chamando o método estático diretamente pela classe (sem instância)\n",
        "imposto = UtilidadesMatematicas.calcular_imposto(500, 0.1)\n",
        "print(f\"Imposto calculado: R${imposto:.2f}\")\n"
      ],
      "metadata": {
        "colab": {
          "base_uri": "https://localhost:8080/"
        },
        "id": "enH7MUBsNfgw",
        "outputId": "d0b96d22-ccc5-40f4-be3a-c14b35f7b5f9"
      },
      "execution_count": null,
      "outputs": [
        {
          "output_type": "stream",
          "name": "stdout",
          "text": [
            "Imposto calculado: R$50.00\n"
          ]
        }
      ]
    },
    {
      "cell_type": "markdown",
      "source": [
        "💡 **Exemplo prático:** Um método `calcular_idade(ano_nascimento)` dentro da classe Pessoa, que calcula a idade com base no ano de nascimento, sem precisar de uma instância da classe."
      ],
      "metadata": {
        "id": "uUJNMB6JHBJB"
      }
    },
    {
      "cell_type": "code",
      "source": [
        "class Pessoa:\n",
        "    @staticmethod\n",
        "    def calcular_idade(ano_nascimento, ano_atual):\n",
        "        idade = ano_atual - ano_nascimento\n",
        "        return idade\n",
        "\n",
        "# Exemplo de uso\n",
        "ano_atual = 2025\n",
        "ano_nascimento = 1990\n",
        "\n",
        "idade = Pessoa.calcular_idade(ano_nascimento, ano_atual)\n",
        "print(f\"A idade da pessoa é: {idade} anos.\")\n"
      ],
      "metadata": {
        "id": "kRGcsT1nHDYo"
      },
      "execution_count": null,
      "outputs": []
    },
    {
      "cell_type": "markdown",
      "source": [
        "**Exemplo Prático**\n",
        "\n",
        "1. Crie uma classe chamada **Funcionario** com os atributos **nome**, **cargo** e **salario**.\n",
        "2. Crie um **método** de classe para alterar o salário dos funcionários.\n",
        "2. Adicione um **método** para exibir os detalhes do funcionário.\n",
        "3. Teste a classe criando **objetos** e chamando os **métodos**."
      ],
      "metadata": {
        "id": "4DVu_TJynYV-"
      }
    },
    {
      "cell_type": "markdown",
      "source": [
        "# **Lista de Exercícios – Classes e Objetos em Python**\n",
        "\n",
        "**Exercício 1: Definição Básica de Classe**\n",
        "\n",
        "* Tarefa: Crie uma classe chamada Pessoa sem atributos ou métodos. Em seguida, crie uma instância dessa classe e exiba seu tipo.\n",
        "* Objetivo: Compreender a definição de classe e instância.\n",
        "\n",
        "**Exercício 2: Atributos com Construtor**\n",
        "* Tarefa: Crie uma classe Carro com os atributos modelo e ano. Use o construtor `__init__` para inicializar esses atributos e crie uma instância de Carro.\n",
        "* Objetivo: Entender o uso de atributos dentro do construtor.\n",
        "\n",
        "**Exercício 3: Atributos de Instância**\n",
        "* Tarefa: Crie uma classe Produto com os atributos nome e preco. Crie uma instância de Produto e modifique o atributo preco.\n",
        "* Objetivo: Compreender que atributos de instância são específicos de cada objeto.\n",
        "\n",
        "**Exercício 4: Atributos de Classe**\n",
        "* Tarefa: Crie uma classe Animal com um atributo de classe categoria. Modifique esse atributo na classe e observe como ele afeta todas as instâncias.\n",
        "* Objetivo: Entender o comportamento de atributos de classe e sua modificação.\n",
        "\n",
        "**Exercício 5: Métodos de Instância**\n",
        "* Tarefa: Crie uma classe Pessoa com os atributos nome e idade. Adicione um método de instância apresentar() que retorna uma string com o nome e a idade da pessoa.\n",
        "* Objetivo: Compreender como os métodos de instância operam sobre os atributos do objeto.\n",
        "\n",
        "**Exercício 6: Método de Instância Modificando Atributos**\n",
        "* Tarefa: Crie uma classe ContaBancaria com os atributos titular e saldo. Adicione um método de instância depositar(valor) que aumenta o saldo da conta.\n",
        "* Objetivo: Demonstrar como modificar atributos de instância usando métodos.\n",
        "\n",
        "**Exercício 7: Método de Instância com Condicional**\n",
        "* Tarefa: Crie uma classe Aluno com os atributos nome e nota. Adicione um método de instância situacao() que retorna \"Aprovado\" se a nota for maior ou igual a 6 e \"Reprovado\" caso contrário.\n",
        "* Objetivo: Trabalhar com métodos de instância que utilizam condicionais.\n",
        "\n",
        "**Exercício 8: Métodos de Classe**\n",
        "* Tarefa: Crie uma classe Funcionario com o atributo de classe bonus. Adicione um método de classe modificar_bonus(valor) que altera o valor do bônus.\n",
        "* Objetivo: Compreender como os métodos de classe operam sobre atributos de classe.\n",
        "\n",
        "**Exercício 9: Métodos de Classe Modificando Atributos de Classe**\n",
        "* Tarefa: Crie uma classe Loja com o atributo de classe desconto. Adicione um método de classe aplicar_desconto() que modifica o valor do desconto para todas as instâncias.\n",
        "* Objetivo: Demonstrar a alteração de atributos de classe por métodos de classe.\n",
        "\n",
        "**Exercício 10: Método de Classe Criando Instâncias**\n",
        "* Tarefa: Crie uma classe Pessoa com o método de classe criar_pessoa(nome, idade) que cria e retorna uma instância de Pessoa.\n",
        "* Objetivo: Demonstrar como métodos de classe podem ser usados para criar instâncias."
      ],
      "metadata": {
        "id": "ravfnN9z0OMq"
      }
    },
    {
      "cell_type": "markdown",
      "source": [
        "**Exercício 11: Métodos Estáticos**\n",
        "* Tarefa: Crie uma classe Calculadora com um método estático somar(a, b) que retorna a soma de dois números.\n",
        "* Objetivo: Entender como os métodos estáticos não precisam de instância e são utilizados para funcionalidades utilitárias.\n",
        "\n",
        "**Exercício 12: Métodos Estáticos com Validação**\n",
        "* Tarefa: Crie uma classe Pessoa com um método estático validar_idade(idade) que retorna True se a idade for maior ou igual a 18 e False caso contrário.\n",
        "* Objetivo: Demonstrar como métodos estáticos podem ser usados para validações sem depender de instância.\n",
        "\n",
        "**Exercício 13: Atributos de Instância e Métodos**\n",
        "* Tarefa: Crie uma classe Produto com os atributos nome e preco. Adicione um método aplicar_desconto(desconto) que aplica um desconto ao preço do produto.\n",
        "* Objetivo: Integrar atributos de instância com métodos que modificam seus valores.\n",
        "\n",
        "**Exercício 14: Atributo de Classe e Método Estático**\n",
        "* Tarefa: Crie uma classe Banco com um atributo de classe taxa_juros. Adicione um método estático calcular_juros(saldo) que calcula os juros sobre um saldo, considerando a taxa de juros da classe.\n",
        "* Objetivo: Compreender como atributos de classe podem ser utilizados em métodos estáticos.\n",
        "\n",
        "**Exercício 15: Método de Instância com Atributos Privados**\n",
        "* Tarefa: Crie uma classe ContaBancaria com o atributo privado __saldo e um método depositar(valor) que aumenta o saldo.\n",
        "* Objetivo: Demonstrar o uso de atributos privados e métodos para manipulá-los.\n",
        "\n",
        "**Exercício 16: Definindo Atributos Padrão com Construtor**\n",
        "* Tarefa: Crie uma classe Carro com os atributos modelo e cor. Defina valores padrão para esses atributos caso não sejam passados durante a criação da instância.\n",
        "* Objetivo: Trabalhar com valores padrão em atributos de classe.\n",
        "\n",
        "**Exercício 17: Atributos de Instância em Várias Instâncias**\n",
        "* Tarefa: Crie uma classe Aluno com os atributos nome e nota. Crie várias instâncias e modifique os atributos de cada uma de forma independente.\n",
        "* Objetivo: Compreender a independência dos atributos de instância entre diferentes objetos.\n",
        "\n",
        "**Exercício 18: Sobrescrevendo Métodos de Instância**\n",
        "* Tarefa: Crie uma classe Funcionario com um método salario() e uma classe Gerente que herda de Funcionario e sobrescreve o método salario() para retornar um valor maior.\n",
        "* Objetivo: Demonstrar como sobrescrever métodos de instância em classes filhas.\n",
        "\n",
        "**Exercício 19: Atributos de Instância e Métodos de Classe**\n",
        "* Tarefa: Crie uma classe Curso com o atributo de instância nome e o atributo de classe quantidade_cursos. Adicione um método de classe alterar_quantidade_cursos() que modifica o valor de quantidade_cursos.\n",
        "* Objetivo: Trabalhar com atributos de instância e classe em conjunto.\n",
        "\n",
        "**Exercício 20: Usando Métodos de Classe para Criar Objetos**\n",
        "* Tarefa: Crie uma classe Livro com um método de classe criar_livro(titulo, autor) que cria e retorna uma instância de Livro com base nos parâmetros passados.\n",
        "* Objetivo: Compreender como métodos de classe podem ser utilizados para criar instâncias."
      ],
      "metadata": {
        "id": "8fue8GLUeQO-"
      }
    },
    {
      "cell_type": "markdown",
      "source": [
        "**Exercício 21: Métodos de Instância com Condicional**\n",
        "* Tarefa: Crie uma classe Conta com o atributo saldo e o método verificar_saldo(), que retorna uma mensagem diferente dependendo do valor do saldo.\n",
        "* Objetivo: Trabalhar com métodos de instância e lógica condicional.\n",
        "\n",
        "**Exercício 22: Atributo de Classe com Modificação**\n",
        "* Tarefa: Crie uma classe Pessoa com um atributo de classe total_pessoas. Cada vez que uma nova instância for criada, o total_pessoas deve ser incrementado. Teste a alteração com várias instâncias.\n",
        "* Objetivo: Entender como os atributos de classe podem ser modificados automaticamente por métodos.\n",
        "\n",
        "**Exercício 23: Métodos de Classe para Alterar Atributos de Instância**\n",
        "* Tarefa: Crie uma classe Aluno com os atributos nome e nota. Adicione um método de classe alterar_nome() que altera o nome de todos os alunos de uma lista.\n",
        "* Objetivo: Demonstrar o uso de métodos de classe para modificar atributos de instância.\n",
        "\n",
        "**Exercício 24: Métodos Estáticos para Cálculo**\n",
        "* Tarefa: Crie uma classe Venda com um método estático calcular_imposto(valor) que retorna o valor do imposto sobre o valor passado.\n",
        "* Objetivo: Aplicar cálculos simples em métodos estáticos.\n",
        "\n",
        "**Exercício 25: Método Estático Utilizando Atributos de Classe**\n",
        "*Tarefa: Crie uma classe Produto com um atributo de classe desconto e um método estático aplicar_desconto(preco) que aplica o desconto no preço do produto.\n",
        "* Objetivo: Utilizar atributos de classe em métodos estáticos.\n",
        "\n",
        "**Exercício 26: Verificação de Atributos com Métodos de Instância**\n",
        "* Tarefa: Crie uma classe Pessoa com o atributo idade. Adicione um método de instância verificar_maioridade() que verifica se a pessoa é maior de idade.\n",
        "* Objetivo: Trabalhar com verificações utilizando métodos de instância.\n",
        "\n",
        "**Exercício 27: Método de Instância para Acesso a Atributo**\n",
        "* Tarefa: Crie uma classe Produto com os atributos nome e preco. Adicione um método de instância mostrar_info() que retorna uma string com os dados do produto.\n",
        "* Objetivo: Demonstrar como acessar atributos de instância por meio de métodos.\n",
        "\n",
        "**Exercício 28: Atributo de Classe com Método Estático**\n",
        "* Tarefa: Crie uma classe ContaBancaria com um atributo de classe taxa_juros e um método estático calcular_juros(saldo) que calcula os juros sobre o saldo da conta.\n",
        "* Objetivo: Integrar atributos de classe com métodos estáticos.\n",
        "\n",
        "**Exercício 29: Método de Instância para Modificação Condicional**\n",
        "* Tarefa: Crie uma classe ContaBancaria com o atributo saldo e o método saque(valor). O saque só deve ser realizado se o valor for menor que o saldo.\n",
        "* Objetivo: Trabalhar com modificações condicionais usando métodos de instância.\n",
        "\n",
        "**Exercício 30: Uso de Métodos de Instância e Estáticos Juntos**\n",
        "* Tarefa: Crie uma classe Cliente com o atributo nome e um método estático validar_cpf(cpf) que retorna True se o CPF for válido. Use esse método no método de instância cadastrar_cliente().\n",
        "* Objetivo: Demonstrar a integração de métodos de instância e métodos estáticos.\n"
      ],
      "metadata": {
        "id": "0dPLljDYfBA4"
      }
    },
    {
      "cell_type": "code",
      "source": [
        "#Exercício 1\n",
        "class Pessoa:\n",
        "    pass\n",
        "p = Pessoa()\n",
        "print(type(p))"
      ],
      "metadata": {
        "id": "6trWtnui0iFp"
      },
      "execution_count": null,
      "outputs": []
    },
    {
      "cell_type": "code",
      "source": [
        "#Exercício 2\n",
        "class Carro:\n",
        "    def __init__(self, modelo, ano):\n",
        "        self.modelo = modelo\n",
        "        self.ano = ano\n",
        "meu_carro = Carro(\"Fusca\", 1970)\n",
        "print(meu_carro.modelo, meu_carro.ano)"
      ],
      "metadata": {
        "id": "7dYub70T0mcv"
      },
      "execution_count": null,
      "outputs": []
    },
    {
      "cell_type": "code",
      "source": [
        "#Exercício 3\n",
        "class Produto:\n",
        "    def __init__(self, nome, preco):\n",
        "        self.nome = nome\n",
        "        self.preco = preco\n",
        "p = Produto(\"Celular\", 1500)\n",
        "print(p.nome, p.preco)"
      ],
      "metadata": {
        "id": "NfSoerZu0nXV"
      },
      "execution_count": null,
      "outputs": []
    },
    {
      "cell_type": "code",
      "source": [
        "#Exercício 4\n",
        "class Animal:\n",
        "    categoria = \"Mamífero\"\n",
        "print(Animal.categoria)\n",
        "Animal.categoria = \"Réptil\"\n",
        "print(Animal.categoria)"
      ],
      "metadata": {
        "id": "bsipajK30t7S"
      },
      "execution_count": null,
      "outputs": []
    },
    {
      "cell_type": "code",
      "source": [
        "#Exercício 5\n",
        "class Pessoa:\n",
        "    def __init__(self, nome, idade):\n",
        "        self.nome = nome\n",
        "        self.idade = idade\n",
        "    def apresentar(self):\n",
        "        return f\"Meu nome é {self.nome} e tenho {self.idade} anos.\"\n",
        "p = Pessoa(\"João\", 30)\n",
        "print(p.apresentar())"
      ],
      "metadata": {
        "id": "psPCNapZ0uV6"
      },
      "execution_count": null,
      "outputs": []
    },
    {
      "cell_type": "code",
      "source": [
        "#Exercício 6\n",
        "class ContaBancaria:\n",
        "    def __init__(self, titular, saldo):\n",
        "        self.titular = titular\n",
        "        self.saldo = saldo\n",
        "    def depositar(self, valor):\n",
        "        self.saldo += valor\n",
        "conta = ContaBancaria(\"Maria\", 1000)\n",
        "conta.depositar(500)\n",
        "print(conta.saldo)"
      ],
      "metadata": {
        "id": "87UfKBkw0uqN"
      },
      "execution_count": null,
      "outputs": []
    },
    {
      "cell_type": "code",
      "source": [
        "#Exercício 7\n",
        "class Aluno:\n",
        "    def __init__(self, nome, nota):\n",
        "        self.nome = nome\n",
        "        self.nota = nota\n",
        "    def situacao(self):\n",
        "        return \"Aprovado\" if self.nota >= 6 else \"Reprovado\"\n",
        "a = Aluno(\"Carlos\", 7)\n",
        "print(a.situacao())"
      ],
      "metadata": {
        "id": "mpgCANM50u8w"
      },
      "execution_count": null,
      "outputs": []
    },
    {
      "cell_type": "code",
      "source": [
        "#Exercício 8\n",
        "class Funcionario:\n",
        "    bonus = 1000\n",
        "    @classmethod\n",
        "    def modificar_bonus(cls, valor):\n",
        "        cls.bonus = valor\n",
        "Funcionario.modificar_bonus(1500)\n",
        "print(Funcionario.bonus)"
      ],
      "metadata": {
        "id": "P9AUkuuq0vQb"
      },
      "execution_count": null,
      "outputs": []
    },
    {
      "cell_type": "code",
      "source": [
        "#Exercício 9\n",
        "class Loja:\n",
        "    desconto = 10\n",
        "    @classmethod\n",
        "    def aplicar_desconto(cls, novo_valor):\n",
        "        cls.desconto = novo_valor\n",
        "Loja.aplicar_desconto(15)\n",
        "print(Loja.desconto)"
      ],
      "metadata": {
        "id": "xWHrqw6H0vjN"
      },
      "execution_count": null,
      "outputs": []
    },
    {
      "cell_type": "code",
      "source": [
        "#Exercício 10\n",
        "class Pessoa:\n",
        "    def __init__(self, nome, idade):\n",
        "        self.nome = nome\n",
        "        self.idade = idade\n",
        "    @classmethod\n",
        "    def criar_pessoa(cls, nome, idade):\n",
        "        return cls(nome, idade)\n",
        "p = Pessoa.criar_pessoa(\"Ana\", 25)\n",
        "print(p.nome, p.idade)"
      ],
      "metadata": {
        "id": "ym5aNtcq0v2J"
      },
      "execution_count": null,
      "outputs": []
    },
    {
      "cell_type": "code",
      "source": [
        "#Exercício 11\n",
        "class Calculadora:\n",
        "    @staticmethod\n",
        "    def somar(a, b):\n",
        "        return a + b\n",
        "print(Calculadora.somar(10, 5))"
      ],
      "metadata": {
        "id": "KYQsyi2K0wIG"
      },
      "execution_count": null,
      "outputs": []
    },
    {
      "cell_type": "code",
      "source": [
        "#Exercício 12\n",
        "class Pessoa:\n",
        "    @staticmethod\n",
        "    def validar_idade(idade):\n",
        "        return idade >= 18\n",
        "print(Pessoa.validar_idade(20))"
      ],
      "metadata": {
        "id": "lJ9VZGKk0wau"
      },
      "execution_count": null,
      "outputs": []
    },
    {
      "cell_type": "code",
      "source": [
        "#Exercício 13\n",
        "class Produto:\n",
        "    def __init__(self, nome, preco):\n",
        "        self.nome = nome\n",
        "        self.preco = preco\n",
        "    def aplicar_desconto(self, desconto):\n",
        "        self.preco -= self.preco * (desconto / 100)\n",
        "p = Produto(\"Notebook\", 3000)\n",
        "p.aplicar_desconto(10)\n",
        "print(p.preco)"
      ],
      "metadata": {
        "id": "rA_Egr-X0wuO"
      },
      "execution_count": null,
      "outputs": []
    },
    {
      "cell_type": "code",
      "source": [
        "#Exercício 14\n",
        "class Banco:\n",
        "    taxa_juros = 0.05\n",
        "    @staticmethod\n",
        "    def calcular_juros(saldo):\n",
        "        return saldo * Banco.taxa_juros\n",
        "print(Banco.calcular_juros(1000))"
      ],
      "metadata": {
        "id": "pS1s9Kld0xBW"
      },
      "execution_count": null,
      "outputs": []
    },
    {
      "cell_type": "code",
      "source": [
        "#Exercício 15\n",
        "class ContaBancaria:\n",
        "    def __init__(self, saldo):\n",
        "        self._saldo = saldo\n",
        "    def depositar(self, valor):\n",
        "        self._saldo += valor\n",
        "conta = ContaBancaria(1000)\n",
        "conta.depositar(500)\n",
        "print(conta._saldo)"
      ],
      "metadata": {
        "id": "qxVrpMGq0xS7"
      },
      "execution_count": null,
      "outputs": []
    },
    {
      "cell_type": "code",
      "source": [
        "#Exercício 16\n",
        "class Carro:\n",
        "    def __init__(self, modelo=\"Genérico\", cor=\"Branco\"):\n",
        "        self.modelo = modelo\n",
        "        self.cor = cor\n",
        "c1 = Carro()\n",
        "c2 = Carro(\"Fusca\", \"Azul\")\n",
        "print(c1.modelo, c1.cor)\n",
        "print(c2.modelo, c2.cor)"
      ],
      "metadata": {
        "id": "PrCG3_qm0xod"
      },
      "execution_count": null,
      "outputs": []
    },
    {
      "cell_type": "code",
      "source": [
        "#Exercício 17\n",
        "class Aluno:\n",
        "    def __init__(self, nome, nota):\n",
        "        self.nome = nome\n",
        "        self.nota = nota\n",
        "a1 = Aluno(\"Lucas\", 8)\n",
        "a2 = Aluno(\"Mariana\", 7)\n",
        "a2.nota = 9\n",
        "print(a1.nota, a2.nota)"
      ],
      "metadata": {
        "id": "5qrVT6Wn0x8U"
      },
      "execution_count": null,
      "outputs": []
    },
    {
      "cell_type": "code",
      "source": [
        "#Exercício 18\n",
        "class Funcionario:\n",
        "    def __init__(self, nome, salario):\n",
        "        self.nome = nome\n",
        "        self.salario = salario\n",
        "    def salario(self):\n",
        "        return self.salario\n",
        "class Gerente(Funcionario):\n",
        "    def __init__(self, nome, salario, bonus):\n",
        "        super().__init__(nome, salario)\n",
        "        self.bonus = bonus\n",
        "    def salario(self):\n",
        "        return self.salario + self.bonus\n",
        "# Testando\n",
        "funcionario = Funcionario(\"Alice\", 3000)\n",
        "gerente = Gerente(\"Bob\", 5000, 1000)\n",
        "\n",
        "print(f\"Salário do funcionário: {funcionario.salario()}\")\n",
        "print(f\"Salário do gerente: {gerente.salario()}\")"
      ],
      "metadata": {
        "id": "P6IaW0jj0yPl"
      },
      "execution_count": null,
      "outputs": []
    },
    {
      "cell_type": "code",
      "source": [
        "#Exercício 19\n",
        "class Curso:\n",
        "    quantidade_cursos = 0  # Atributo de classe\n",
        "    def __init__(self, nome):\n",
        "        self.nome = nome\n",
        "        Curso.quantidade_cursos += 1\n",
        "    @classmethod\n",
        "    def alterar_quantidade_cursos(cls, nova_quantidade):\n",
        "        cls.quantidade_cursos = nova_quantidade\n",
        "# Testando\n",
        "curso1 = Curso(\"Python\")\n",
        "curso2 = Curso(\"Java\")\n",
        "print(f\"Quantidade de cursos: {Curso.quantidade_cursos}\")\n",
        "Curso.alterar_quantidade_cursos(5)\n",
        "print(f\"Quantidade de cursos após alteração: {Curso.quantidade_cursos}\")"
      ],
      "metadata": {
        "id": "Vi45YwhD0yjw"
      },
      "execution_count": null,
      "outputs": []
    },
    {
      "cell_type": "code",
      "source": [
        "#Exercício 20\n",
        "class Livro:\n",
        "    def __init__(self, titulo, autor):\n",
        "        self.titulo = titulo\n",
        "        self.autor = autor\n",
        "    @classmethod\n",
        "    def criar_livro(cls, titulo, autor):\n",
        "        return cls(titulo, autor)\n",
        "# Testando\n",
        "livro = Livro.criar_livro(\"Dom Quixote\", \"Miguel de Cervantes\")\n",
        "print(f\"Livro: {livro.titulo}, Autor: {livro.autor}\")"
      ],
      "metadata": {
        "id": "RZcrW4dk0zDz"
      },
      "execution_count": null,
      "outputs": []
    },
    {
      "cell_type": "code",
      "source": [
        "#Exercício 21\n",
        "class Conta:\n",
        "    def __init__(self, saldo):\n",
        "        self.saldo = saldo\n",
        "    def verificar_saldo(self):\n",
        "        if self.saldo > 0:\n",
        "            return \"Saldo positivo\"\n",
        "        elif self.saldo == 0:\n",
        "            return \"Saldo zerado\"\n",
        "        else:\n",
        "            return \"Saldo negativo\"\n",
        "# Testando\n",
        "conta1 = Conta(100)\n",
        "conta2 = Conta(0)\n",
        "conta3 = Conta(-50)\n",
        "print(f\"Conta 1: {conta1.verificar_saldo()}\")\n",
        "print(f\"Conta 2: {conta2.verificar_saldo()}\")\n",
        "print(f\"Conta 3: {conta3.verificar_saldo()}\")"
      ],
      "metadata": {
        "id": "KVU7j9aE0zXe"
      },
      "execution_count": null,
      "outputs": []
    },
    {
      "cell_type": "code",
      "source": [
        "#Exercício 22\n",
        "class Pessoa:\n",
        "    total_pessoas = 0  # Atributo de classe\n",
        "    def __init__(self, nome):\n",
        "        self.nome = nome\n",
        "        Pessoa.total_pessoas += 1  # Incrementa o atributo de classe\n",
        "# Testando\n",
        "pessoa1 = Pessoa(\"Alice\")\n",
        "pessoa2 = Pessoa(\"Bob\")\n",
        "pessoa3 = Pessoa(\"Charlie\")\n",
        "print(f\"Total de pessoas: {Pessoa.total_pessoas}\")"
      ],
      "metadata": {
        "id": "QSSZh90y0zrm"
      },
      "execution_count": null,
      "outputs": []
    },
    {
      "cell_type": "code",
      "source": [
        "#Exercício 23\n",
        "class Aluno:\n",
        "    def __init__(self, nome, nota):\n",
        "        self.nome = nome\n",
        "        self.nota = nota\n",
        "    @classmethod\n",
        "    def alterar_nome(cls, lista_alunos, novo_nome):\n",
        "        for aluno in lista_alunos:\n",
        "            aluno.nome = novo_nome\n",
        "# Testando\n",
        "aluno1 = Aluno(\"Ana\", 8.5)\n",
        "aluno2 = Aluno(\"Bruno\", 7.0)\n",
        "alunos = [aluno1, aluno2]\n",
        "Aluno.alterar_nome(alunos, \"Novo Nome\")\n",
        "for aluno in alunos:\n",
        "    print(f\"Nome: {aluno.nome}, Nota: {aluno.nota}\")"
      ],
      "metadata": {
        "id": "DV0NqoJB0z-Y"
      },
      "execution_count": null,
      "outputs": []
    },
    {
      "cell_type": "code",
      "source": [
        "#Exercício 24\n",
        "class Venda:\n",
        "    @staticmethod\n",
        "    def calcular_imposto(valor):\n",
        "        return valor * 0.1  # Exemplo de imposto de 10%\n",
        "# Testando\n",
        "valor_venda = 100\n",
        "imposto = Venda.calcular_imposto(valor_venda)\n",
        "print(f\"Imposto: {imposto}\")"
      ],
      "metadata": {
        "id": "MontDilf00Rg"
      },
      "execution_count": null,
      "outputs": []
    },
    {
      "cell_type": "code",
      "source": [
        "#Exercício 25\n",
        "class Produto:\n",
        "    desconto = 0.2  # Atributo de classe\n",
        "    @staticmethod\n",
        "    def aplicar_desconto(preco):\n",
        "        return preco * (1 - Produto.desconto)\n",
        "# Testando\n",
        "preco_produto = 50\n",
        "preco_com_desconto = Produto.aplicar_desconto(preco_produto)\n",
        "print(f\"Preço com desconto: {preco_com_desconto}\")"
      ],
      "metadata": {
        "id": "allPqpBz00k7"
      },
      "execution_count": null,
      "outputs": []
    },
    {
      "cell_type": "code",
      "source": [
        "#Exercício 26\n",
        "class Pessoa:\n",
        "    def __init__(self, idade):\n",
        "        self.idade = idade\n",
        "    def verificar_maioridade(self):\n",
        "        return self.idade >= 18\n",
        "# Testando\n",
        "pessoa1 = Pessoa(20)\n",
        "pessoa2 = Pessoa(16)\n",
        "print(f\"Pessoa 1 é maior de idade? {pessoa1.verificar_maioridade()}\")\n",
        "print(f\"Pessoa 2 é maior de idade? {pessoa2.verificar_maioridade()}\")"
      ],
      "metadata": {
        "id": "aofbcs1d003E"
      },
      "execution_count": null,
      "outputs": []
    },
    {
      "cell_type": "code",
      "source": [
        "#Exercício 27\n",
        "class Produto:\n",
        "    def __init__(self, nome, preco):\n",
        "        self.nome = nome\n",
        "        self.preco = preco\n",
        "    def mostrar_info(self):\n",
        "        return f\"Nome: {self.nome}, Preço: {self.preco}\"\n",
        "# Testando\n",
        "produto = Produto(\"Laptop\", 1200)\n",
        "info_produto = produto.mostrar_info()\n",
        "print(info_produto)"
      ],
      "metadata": {
        "id": "XDMalsZh01LB"
      },
      "execution_count": null,
      "outputs": []
    },
    {
      "cell_type": "code",
      "source": [
        "#Exercício 28\n",
        "class ContaBancaria:\n",
        "    taxa_juros = 0.05\n",
        "    @staticmethod\n",
        "    def calcular_juros(saldo):\n",
        "        return saldo * ContaBancaria.taxa_juros\n",
        "print(ContaBancaria.calcular_juros(2000))"
      ],
      "metadata": {
        "id": "Wn6SnGJB01da"
      },
      "execution_count": null,
      "outputs": []
    },
    {
      "cell_type": "code",
      "source": [
        "#Exercício 29\n",
        "class ContaBancaria:\n",
        "    def __init__(self, saldo):\n",
        "        self.saldo = saldo\n",
        "    def saque(self, valor):\n",
        "        if valor < self.saldo:\n",
        "            self.saldo -= valor\n",
        "            return \"Saque realizado!\"\n",
        "        return \"Saldo insuficiente!\"\n",
        "conta = ContaBancaria(500)\n",
        "print(conta.saque(300))\n",
        "print(conta.saque(300))"
      ],
      "metadata": {
        "id": "jQBzofzS011O"
      },
      "execution_count": null,
      "outputs": []
    },
    {
      "cell_type": "code",
      "source": [
        "#Exercício 30\n",
        "class Cliente:\n",
        "    def __init__(self, nome, cpf):\n",
        "        self.nome = nome\n",
        "        self.cpf = cpf\n",
        "    @staticmethod\n",
        "    def validar_cpf(cpf):\n",
        "        return len(str(cpf)) == 11 and cpf.isdigit()\n",
        "    def cadastrar_cliente(self):\n",
        "        if Cliente.validar_cpf(self.cpf):\n",
        "            return \"Cliente cadastrado!\"\n",
        "        return \"CPF inválido!\"\n",
        "c = Cliente(\"João\", \"12345678901\")\n",
        "print(c.cadastrar_cliente())"
      ],
      "metadata": {
        "id": "_bZyKGT602P4"
      },
      "execution_count": null,
      "outputs": []
    }
  ]
}